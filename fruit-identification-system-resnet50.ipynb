{
  "nbformat": 4,
  "nbformat_minor": 0,
  "metadata": {
    "colab": {
      "name": "Fruit Identification System ResNet50.ipynb",
      "provenance": []
    },
    "kernelspec": {
      "name": "python3",
      "display_name": "Python 3"
    },
    "language_info": {
      "name": "python"
    }
  },
  "cells": [
    {
      "cell_type": "markdown",
      "metadata": {
        "id": "ZGC2SL0YXohk"
      },
      "source": [
        "## Setting Up Environment"
      ]
    },
    {
      "cell_type": "code",
      "metadata": {
        "colab": {
          "base_uri": "https://localhost:8080/"
        },
        "id": "qa__sc0e5Xup",
        "outputId": "144ff72b-9cde-4c42-f3a7-5ade539a13c7"
      },
      "source": [
        "!nvidia-smi"
      ],
      "execution_count": 10,
      "outputs": [
        {
          "output_type": "stream",
          "text": [
            "Fri Jul 23 15:05:27 2021       \n",
            "+-----------------------------------------------------------------------------+\n",
            "| NVIDIA-SMI 470.42.01    Driver Version: 460.32.03    CUDA Version: 11.2     |\n",
            "|-------------------------------+----------------------+----------------------+\n",
            "| GPU  Name        Persistence-M| Bus-Id        Disp.A | Volatile Uncorr. ECC |\n",
            "| Fan  Temp  Perf  Pwr:Usage/Cap|         Memory-Usage | GPU-Util  Compute M. |\n",
            "|                               |                      |               MIG M. |\n",
            "|===============================+======================+======================|\n",
            "|   0  Tesla T4            Off  | 00000000:00:04.0 Off |                    0 |\n",
            "| N/A   51C    P8    10W /  70W |      0MiB / 15109MiB |      0%      Default |\n",
            "|                               |                      |                  N/A |\n",
            "+-------------------------------+----------------------+----------------------+\n",
            "                                                                               \n",
            "+-----------------------------------------------------------------------------+\n",
            "| Processes:                                                                  |\n",
            "|  GPU   GI   CI        PID   Type   Process name                  GPU Memory |\n",
            "|        ID   ID                                                   Usage      |\n",
            "|=============================================================================|\n",
            "|  No running processes found                                                 |\n",
            "+-----------------------------------------------------------------------------+\n"
          ],
          "name": "stdout"
        }
      ]
    },
    {
      "cell_type": "code",
      "metadata": {
        "id": "-WIkiUnDWcRO"
      },
      "source": [
        "## Upload 'kaggle.json' file to import dataset from kaggle\n",
        "\n",
        "# Install the Kaggle library\n",
        "#! pip install kaggle\n",
        "\n",
        "# Make a directory named “.kaggle”\n",
        "! mkdir ~/.kaggle\n",
        "\n",
        "# Copy the “kaggle.json” into this new directory\n",
        "! cp kaggle.json ~/.kaggle/\n",
        "\n",
        "# Allocate the required permission for this file\n",
        "! chmod 600 ~/.kaggle/kaggle.json\n",
        "\n",
        "# download the dataset\n",
        "! kaggle datasets download \"moltean/fruits\"\n",
        "\n",
        "# unzip data\n",
        "! unzip fruits"
      ],
      "execution_count": null,
      "outputs": []
    },
    {
      "cell_type": "code",
      "metadata": {
        "id": "3kqz7dCkX2FP"
      },
      "source": [
        "import tensorflow as tf\n",
        "import numpy as np\n",
        "import matplotlib.pyplot as plt\n",
        "from pathlib import Path\n",
        "\n",
        "tf.random.set_seed(4)"
      ],
      "execution_count": 12,
      "outputs": []
    },
    {
      "cell_type": "markdown",
      "metadata": {
        "id": "I_SAZtH4Xsfl"
      },
      "source": [
        "## Load the data"
      ]
    },
    {
      "cell_type": "code",
      "metadata": {
        "colab": {
          "base_uri": "https://localhost:8080/"
        },
        "id": "dG9pilkrZfBI",
        "outputId": "38eeca10-21f4-4f3d-fa15-5b08529db3e1"
      },
      "source": [
        "# get the current working directory name\n",
        "cur_dir = Path.cwd()\n",
        "print(cur_dir)"
      ],
      "execution_count": 13,
      "outputs": [
        {
          "output_type": "stream",
          "text": [
            "/content\n"
          ],
          "name": "stdout"
        }
      ]
    },
    {
      "cell_type": "code",
      "metadata": {
        "id": "qVMjTIgRYBnz"
      },
      "source": [
        "train_path = Path(\"/content/fruits-360/Training\")\n",
        "test_path = Path(\"/content/fruits-360/Test\")"
      ],
      "execution_count": 14,
      "outputs": []
    },
    {
      "cell_type": "code",
      "metadata": {
        "colab": {
          "base_uri": "https://localhost:8080/"
        },
        "id": "0qRlLoazYBlf",
        "outputId": "7b4ba93f-5697-4b8f-a758-6ec22bcf476b"
      },
      "source": [
        "# getting image path\n",
        "train_image_paths = list(train_path.glob(\"*/*\"))\n",
        "# lambda expression that takes in a value and return string of the same value and maps it to all training paths\n",
        "train_image_paths = list(map(lambda x: str(x), train_image_paths))\n",
        "\n",
        "train_image_paths[:5]"
      ],
      "execution_count": 15,
      "outputs": [
        {
          "output_type": "execute_result",
          "data": {
            "text/plain": [
              "['/content/fruits-360/Training/Watermelon/31_100.jpg',\n",
              " '/content/fruits-360/Training/Watermelon/r_193_100.jpg',\n",
              " '/content/fruits-360/Training/Watermelon/r_216_100.jpg',\n",
              " '/content/fruits-360/Training/Watermelon/r_268_100.jpg',\n",
              " '/content/fruits-360/Training/Watermelon/57_100.jpg']"
            ]
          },
          "metadata": {
            "tags": []
          },
          "execution_count": 15
        }
      ]
    },
    {
      "cell_type": "markdown",
      "metadata": {
        "id": "tJrBa7Bwd0TY"
      },
      "source": [
        "## Preprocessing the data"
      ]
    },
    {
      "cell_type": "code",
      "metadata": {
        "colab": {
          "base_uri": "https://localhost:8080/"
        },
        "id": "C0DPLuAtYBjM",
        "outputId": "0b90d198-9add-4089-ec22-b4d262a2d2d5"
      },
      "source": [
        "# get respective label of image and from path\n",
        "def get_label(image_path):\n",
        "  return image_path.split(\"/\")[-2]\n",
        "\n",
        "train_image_labels = list(map(lambda x: get_label(x), train_image_paths))\n",
        "train_image_labels[:5]"
      ],
      "execution_count": 16,
      "outputs": [
        {
          "output_type": "execute_result",
          "data": {
            "text/plain": [
              "['Watermelon', 'Watermelon', 'Watermelon', 'Watermelon', 'Watermelon']"
            ]
          },
          "metadata": {
            "tags": []
          },
          "execution_count": 16
        }
      ]
    },
    {
      "cell_type": "code",
      "metadata": {
        "colab": {
          "base_uri": "https://localhost:8080/"
        },
        "id": "3_yBYn-_YBgk",
        "outputId": "e840ceb0-0c48-4f18-8c08-f23ca6f83d4e"
      },
      "source": [
        "# label encoding - unique labels assigned to each class\n",
        "from sklearn.preprocessing import LabelEncoder\n",
        "\n",
        "Le = LabelEncoder()\n",
        "train_image_labels = Le.fit_transform(train_image_labels)\n",
        "train_image_labels[:5]"
      ],
      "execution_count": 17,
      "outputs": [
        {
          "output_type": "execute_result",
          "data": {
            "text/plain": [
              "array([130, 130, 130, 130, 130])"
            ]
          },
          "metadata": {
            "tags": []
          },
          "execution_count": 17
        }
      ]
    },
    {
      "cell_type": "code",
      "metadata": {
        "colab": {
          "base_uri": "https://localhost:8080/"
        },
        "id": "gDlzQbHVYBdu",
        "outputId": "40aeab7c-8416-4055-c70a-09f9edb4a993"
      },
      "source": [
        "# as multiclass model return vector as an output we have to feed as 'vector inputs' while training\n",
        "# one hot encoder of a unique value\n",
        "train_image_labels = tf.keras.utils.to_categorical(train_image_labels)\n",
        "train_image_labels[:5]"
      ],
      "execution_count": 18,
      "outputs": [
        {
          "output_type": "execute_result",
          "data": {
            "text/plain": [
              "array([[0., 0., 0., 0., 0., 0., 0., 0., 0., 0., 0., 0., 0., 0., 0., 0.,\n",
              "        0., 0., 0., 0., 0., 0., 0., 0., 0., 0., 0., 0., 0., 0., 0., 0.,\n",
              "        0., 0., 0., 0., 0., 0., 0., 0., 0., 0., 0., 0., 0., 0., 0., 0.,\n",
              "        0., 0., 0., 0., 0., 0., 0., 0., 0., 0., 0., 0., 0., 0., 0., 0.,\n",
              "        0., 0., 0., 0., 0., 0., 0., 0., 0., 0., 0., 0., 0., 0., 0., 0.,\n",
              "        0., 0., 0., 0., 0., 0., 0., 0., 0., 0., 0., 0., 0., 0., 0., 0.,\n",
              "        0., 0., 0., 0., 0., 0., 0., 0., 0., 0., 0., 0., 0., 0., 0., 0.,\n",
              "        0., 0., 0., 0., 0., 0., 0., 0., 0., 0., 0., 0., 0., 0., 0., 0.,\n",
              "        0., 0., 1.],\n",
              "       [0., 0., 0., 0., 0., 0., 0., 0., 0., 0., 0., 0., 0., 0., 0., 0.,\n",
              "        0., 0., 0., 0., 0., 0., 0., 0., 0., 0., 0., 0., 0., 0., 0., 0.,\n",
              "        0., 0., 0., 0., 0., 0., 0., 0., 0., 0., 0., 0., 0., 0., 0., 0.,\n",
              "        0., 0., 0., 0., 0., 0., 0., 0., 0., 0., 0., 0., 0., 0., 0., 0.,\n",
              "        0., 0., 0., 0., 0., 0., 0., 0., 0., 0., 0., 0., 0., 0., 0., 0.,\n",
              "        0., 0., 0., 0., 0., 0., 0., 0., 0., 0., 0., 0., 0., 0., 0., 0.,\n",
              "        0., 0., 0., 0., 0., 0., 0., 0., 0., 0., 0., 0., 0., 0., 0., 0.,\n",
              "        0., 0., 0., 0., 0., 0., 0., 0., 0., 0., 0., 0., 0., 0., 0., 0.,\n",
              "        0., 0., 1.],\n",
              "       [0., 0., 0., 0., 0., 0., 0., 0., 0., 0., 0., 0., 0., 0., 0., 0.,\n",
              "        0., 0., 0., 0., 0., 0., 0., 0., 0., 0., 0., 0., 0., 0., 0., 0.,\n",
              "        0., 0., 0., 0., 0., 0., 0., 0., 0., 0., 0., 0., 0., 0., 0., 0.,\n",
              "        0., 0., 0., 0., 0., 0., 0., 0., 0., 0., 0., 0., 0., 0., 0., 0.,\n",
              "        0., 0., 0., 0., 0., 0., 0., 0., 0., 0., 0., 0., 0., 0., 0., 0.,\n",
              "        0., 0., 0., 0., 0., 0., 0., 0., 0., 0., 0., 0., 0., 0., 0., 0.,\n",
              "        0., 0., 0., 0., 0., 0., 0., 0., 0., 0., 0., 0., 0., 0., 0., 0.,\n",
              "        0., 0., 0., 0., 0., 0., 0., 0., 0., 0., 0., 0., 0., 0., 0., 0.,\n",
              "        0., 0., 1.],\n",
              "       [0., 0., 0., 0., 0., 0., 0., 0., 0., 0., 0., 0., 0., 0., 0., 0.,\n",
              "        0., 0., 0., 0., 0., 0., 0., 0., 0., 0., 0., 0., 0., 0., 0., 0.,\n",
              "        0., 0., 0., 0., 0., 0., 0., 0., 0., 0., 0., 0., 0., 0., 0., 0.,\n",
              "        0., 0., 0., 0., 0., 0., 0., 0., 0., 0., 0., 0., 0., 0., 0., 0.,\n",
              "        0., 0., 0., 0., 0., 0., 0., 0., 0., 0., 0., 0., 0., 0., 0., 0.,\n",
              "        0., 0., 0., 0., 0., 0., 0., 0., 0., 0., 0., 0., 0., 0., 0., 0.,\n",
              "        0., 0., 0., 0., 0., 0., 0., 0., 0., 0., 0., 0., 0., 0., 0., 0.,\n",
              "        0., 0., 0., 0., 0., 0., 0., 0., 0., 0., 0., 0., 0., 0., 0., 0.,\n",
              "        0., 0., 1.],\n",
              "       [0., 0., 0., 0., 0., 0., 0., 0., 0., 0., 0., 0., 0., 0., 0., 0.,\n",
              "        0., 0., 0., 0., 0., 0., 0., 0., 0., 0., 0., 0., 0., 0., 0., 0.,\n",
              "        0., 0., 0., 0., 0., 0., 0., 0., 0., 0., 0., 0., 0., 0., 0., 0.,\n",
              "        0., 0., 0., 0., 0., 0., 0., 0., 0., 0., 0., 0., 0., 0., 0., 0.,\n",
              "        0., 0., 0., 0., 0., 0., 0., 0., 0., 0., 0., 0., 0., 0., 0., 0.,\n",
              "        0., 0., 0., 0., 0., 0., 0., 0., 0., 0., 0., 0., 0., 0., 0., 0.,\n",
              "        0., 0., 0., 0., 0., 0., 0., 0., 0., 0., 0., 0., 0., 0., 0., 0.,\n",
              "        0., 0., 0., 0., 0., 0., 0., 0., 0., 0., 0., 0., 0., 0., 0., 0.,\n",
              "        0., 0., 1.]], dtype=float32)"
            ]
          },
          "metadata": {
            "tags": []
          },
          "execution_count": 18
        }
      ]
    },
    {
      "cell_type": "code",
      "metadata": {
        "id": "Ys0X8AzrYBaO"
      },
      "source": [
        "from sklearn.model_selection import train_test_split\n",
        "\n",
        "# train_paths, val_paths, train_label, val_label\n",
        "X_train, X_val, y_train, y_val = train_test_split(train_image_paths, train_image_labels)"
      ],
      "execution_count": 19,
      "outputs": []
    },
    {
      "cell_type": "code",
      "metadata": {
        "colab": {
          "base_uri": "https://localhost:8080/"
        },
        "id": "IjLMt5MgYBXh",
        "outputId": "cac15436-5e08-4d9b-f6ab-8986fe6c52ec"
      },
      "source": [
        "X_train[:5], y_train[:5]"
      ],
      "execution_count": 20,
      "outputs": [
        {
          "output_type": "execute_result",
          "data": {
            "text/plain": [
              "(['/content/fruits-360/Training/Cucumber Ripe/244_100.jpg',\n",
              "  '/content/fruits-360/Training/Pear Red/162_100.jpg',\n",
              "  '/content/fruits-360/Training/Huckleberry/r_72_100.jpg',\n",
              "  '/content/fruits-360/Training/Tomato 3/r2_115_100.jpg',\n",
              "  '/content/fruits-360/Training/Onion Red Peeled/r2_33_100.jpg'],\n",
              " array([[0., 0., 0., 0., 0., 0., 0., 0., 0., 0., 0., 0., 0., 0., 0., 0.,\n",
              "         0., 0., 0., 0., 0., 0., 0., 0., 0., 0., 0., 0., 0., 0., 0., 0.,\n",
              "         0., 0., 0., 0., 0., 1., 0., 0., 0., 0., 0., 0., 0., 0., 0., 0.,\n",
              "         0., 0., 0., 0., 0., 0., 0., 0., 0., 0., 0., 0., 0., 0., 0., 0.,\n",
              "         0., 0., 0., 0., 0., 0., 0., 0., 0., 0., 0., 0., 0., 0., 0., 0.,\n",
              "         0., 0., 0., 0., 0., 0., 0., 0., 0., 0., 0., 0., 0., 0., 0., 0.,\n",
              "         0., 0., 0., 0., 0., 0., 0., 0., 0., 0., 0., 0., 0., 0., 0., 0.,\n",
              "         0., 0., 0., 0., 0., 0., 0., 0., 0., 0., 0., 0., 0., 0., 0., 0.,\n",
              "         0., 0., 0.],\n",
              "        [0., 0., 0., 0., 0., 0., 0., 0., 0., 0., 0., 0., 0., 0., 0., 0.,\n",
              "         0., 0., 0., 0., 0., 0., 0., 0., 0., 0., 0., 0., 0., 0., 0., 0.,\n",
              "         0., 0., 0., 0., 0., 0., 0., 0., 0., 0., 0., 0., 0., 0., 0., 0.,\n",
              "         0., 0., 0., 0., 0., 0., 0., 0., 0., 0., 0., 0., 0., 0., 0., 0.,\n",
              "         0., 0., 0., 0., 0., 0., 0., 0., 0., 0., 0., 0., 0., 0., 0., 0.,\n",
              "         0., 0., 0., 0., 0., 0., 0., 0., 0., 1., 0., 0., 0., 0., 0., 0.,\n",
              "         0., 0., 0., 0., 0., 0., 0., 0., 0., 0., 0., 0., 0., 0., 0., 0.,\n",
              "         0., 0., 0., 0., 0., 0., 0., 0., 0., 0., 0., 0., 0., 0., 0., 0.,\n",
              "         0., 0., 0.],\n",
              "        [0., 0., 0., 0., 0., 0., 0., 0., 0., 0., 0., 0., 0., 0., 0., 0.,\n",
              "         0., 0., 0., 0., 0., 0., 0., 0., 0., 0., 0., 0., 0., 0., 0., 0.,\n",
              "         0., 0., 0., 0., 0., 0., 0., 0., 0., 0., 0., 0., 0., 0., 0., 0.,\n",
              "         0., 0., 0., 0., 0., 0., 1., 0., 0., 0., 0., 0., 0., 0., 0., 0.,\n",
              "         0., 0., 0., 0., 0., 0., 0., 0., 0., 0., 0., 0., 0., 0., 0., 0.,\n",
              "         0., 0., 0., 0., 0., 0., 0., 0., 0., 0., 0., 0., 0., 0., 0., 0.,\n",
              "         0., 0., 0., 0., 0., 0., 0., 0., 0., 0., 0., 0., 0., 0., 0., 0.,\n",
              "         0., 0., 0., 0., 0., 0., 0., 0., 0., 0., 0., 0., 0., 0., 0., 0.,\n",
              "         0., 0., 0.],\n",
              "        [0., 0., 0., 0., 0., 0., 0., 0., 0., 0., 0., 0., 0., 0., 0., 0.,\n",
              "         0., 0., 0., 0., 0., 0., 0., 0., 0., 0., 0., 0., 0., 0., 0., 0.,\n",
              "         0., 0., 0., 0., 0., 0., 0., 0., 0., 0., 0., 0., 0., 0., 0., 0.,\n",
              "         0., 0., 0., 0., 0., 0., 0., 0., 0., 0., 0., 0., 0., 0., 0., 0.,\n",
              "         0., 0., 0., 0., 0., 0., 0., 0., 0., 0., 0., 0., 0., 0., 0., 0.,\n",
              "         0., 0., 0., 0., 0., 0., 0., 0., 0., 0., 0., 0., 0., 0., 0., 0.,\n",
              "         0., 0., 0., 0., 0., 0., 0., 0., 0., 0., 0., 0., 0., 0., 0., 0.,\n",
              "         0., 0., 0., 0., 0., 0., 0., 0., 0., 0., 1., 0., 0., 0., 0., 0.,\n",
              "         0., 0., 0.],\n",
              "        [0., 0., 0., 0., 0., 0., 0., 0., 0., 0., 0., 0., 0., 0., 0., 0.,\n",
              "         0., 0., 0., 0., 0., 0., 0., 0., 0., 0., 0., 0., 0., 0., 0., 0.,\n",
              "         0., 0., 0., 0., 0., 0., 0., 0., 0., 0., 0., 0., 0., 0., 0., 0.,\n",
              "         0., 0., 0., 0., 0., 0., 0., 0., 0., 0., 0., 0., 0., 0., 0., 0.,\n",
              "         0., 0., 0., 0., 0., 0., 0., 0., 0., 0., 0., 1., 0., 0., 0., 0.,\n",
              "         0., 0., 0., 0., 0., 0., 0., 0., 0., 0., 0., 0., 0., 0., 0., 0.,\n",
              "         0., 0., 0., 0., 0., 0., 0., 0., 0., 0., 0., 0., 0., 0., 0., 0.,\n",
              "         0., 0., 0., 0., 0., 0., 0., 0., 0., 0., 0., 0., 0., 0., 0., 0.,\n",
              "         0., 0., 0.]], dtype=float32))"
            ]
          },
          "metadata": {
            "tags": []
          },
          "execution_count": 20
        }
      ]
    },
    {
      "cell_type": "markdown",
      "metadata": {
        "id": "aRgDhAT2eogt"
      },
      "source": [
        "## Data Augmentation"
      ]
    },
    {
      "cell_type": "code",
      "metadata": {
        "id": "euI_3h0vXGiE"
      },
      "source": [
        "# function used for transformation\n",
        "def load(image, label):\n",
        "  image = tf.io.read_file(image)\n",
        "  image = tf.io.decode_jpeg(image, channels=3)\n",
        "  return image, label"
      ],
      "execution_count": 21,
      "outputs": []
    },
    {
      "cell_type": "code",
      "metadata": {
        "id": "u8kO0824ecN3"
      },
      "source": [
        "IMG_SIZE = 224\n",
        "BATCH_SIZE = 32\n",
        "AUTOTUNE = tf.data.experimental.AUTOTUNE"
      ],
      "execution_count": 22,
      "outputs": []
    },
    {
      "cell_type": "code",
      "metadata": {
        "id": "mv_3vO6OecLJ"
      },
      "source": [
        "# basic transformation\n",
        "resize = tf.keras.Sequential([\n",
        "                              tf.keras.layers.experimental.preprocessing.Resizing(IMG_SIZE, IMG_SIZE) # 224 x 224\n",
        "])\n",
        "\n",
        "# data augmentation\n",
        "data_augmentation = tf.keras.Sequential([\n",
        "                                         tf.keras.layers.experimental.preprocessing.RandomFlip(\"horizontal\"),\n",
        "                                         tf.keras.layers.experimental.preprocessing.RandomRotation(0.2),\n",
        "                                         tf.keras.layers.experimental.preprocessing.RandomZoom(height_factor=(-0.3,-0.2)) # zoon-in\n",
        "])"
      ],
      "execution_count": 23,
      "outputs": []
    },
    {
      "cell_type": "markdown",
      "metadata": {
        "id": "gnBBDWm4xL6v"
      },
      "source": [
        "## Creating Data Objects"
      ]
    },
    {
      "cell_type": "code",
      "metadata": {
        "id": "XTXr9NbJecGo"
      },
      "source": [
        "# fuction to create a Tensorflow data object\n",
        "def get_dataset(path, labels, train=True):\n",
        "  # convert paths and labels to tensor\n",
        "  image_paths = tf.convert_to_tensor(path)\n",
        "  labels = tf.convert_to_tensor(labels)\n",
        "\n",
        "  # create dataset objects for images and labels\n",
        "  image_dataset = tf.data.Dataset.from_tensor_slices(image_paths)\n",
        "  label_dataset = tf.data.Dataset.from_tensor_slices(labels)\n",
        "\n",
        "  # zip them to be able to iterate on both at once\n",
        "  dataset = tf.data.Dataset.zip((image_dataset, label_dataset))\n",
        "\n",
        "  # apply load and resize on dataset\n",
        "  dataset = dataset.map(lambda image, label: load(image, label))\n",
        "  dataset = dataset.map(lambda image, label: (resize(image), label), num_parallel_calls=AUTOTUNE)\n",
        "\n",
        "  # shuffle and batch the dataset\n",
        "  dataset = dataset.shuffle(1000)\n",
        "  dataset = dataset.batch(BATCH_SIZE)\n",
        "\n",
        "  # if train = True apply data augmentation\n",
        "  if train:\n",
        "    dataset = dataset.map(lambda image, label: (data_augmentation(image), label), num_parallel_calls=AUTOTUNE)\n",
        "  \n",
        "  # if not training repeat over the dataset and return\n",
        "  dataset = dataset.repeat()\n",
        "  return dataset"
      ],
      "execution_count": 24,
      "outputs": []
    },
    {
      "cell_type": "code",
      "metadata": {
        "colab": {
          "base_uri": "https://localhost:8080/"
        },
        "id": "GhNsLlDfecDx",
        "outputId": "f8bc3345-772f-4b05-bc2d-f9c1a06645c0"
      },
      "source": [
        "# create the training data object\n",
        "%time train_dataset = get_dataset(X_train, y_train)"
      ],
      "execution_count": 25,
      "outputs": [
        {
          "output_type": "stream",
          "text": [
            "CPU times: user 598 ms, sys: 14.5 ms, total: 612 ms\n",
            "Wall time: 663 ms\n"
          ],
          "name": "stdout"
        }
      ]
    },
    {
      "cell_type": "code",
      "metadata": {
        "colab": {
          "base_uri": "https://localhost:8080/"
        },
        "id": "IQaXtLxNuKMt",
        "outputId": "a3de81e3-d3a6-4e0c-febc-f19f9145b91b"
      },
      "source": [
        "image, label = next(iter(train_dataset))\n",
        "print(image.shape) # batch size, h, w, c\n",
        "print(label.shape)"
      ],
      "execution_count": 26,
      "outputs": [
        {
          "output_type": "stream",
          "text": [
            "(32, 224, 224, 3)\n",
            "(32, 131)\n"
          ],
          "name": "stdout"
        }
      ]
    },
    {
      "cell_type": "code",
      "metadata": {
        "colab": {
          "base_uri": "https://localhost:8080/",
          "height": 302
        },
        "id": "6ON1ikVHvl4V",
        "outputId": "56de83c8-8abb-48fd-8eb0-543400e7beab"
      },
      "source": [
        "# view sample training image\n",
        "print(Le.inverse_transform(np.argmax(label, axis=1))[0])\n",
        "plt.imshow((image[0].numpy()/255).reshape(224,224,3))"
      ],
      "execution_count": 27,
      "outputs": [
        {
          "output_type": "stream",
          "text": [
            "Pear Williams\n"
          ],
          "name": "stdout"
        },
        {
          "output_type": "execute_result",
          "data": {
            "text/plain": [
              "<matplotlib.image.AxesImage at 0x7fc7f64d4c50>"
            ]
          },
          "metadata": {
            "tags": []
          },
          "execution_count": 27
        },
        {
          "output_type": "display_data",
          "data": {
            "image/png": "[encoded data removed]",
            "text/plain": [
              "<Figure size 432x288 with 1 Axes>"
            ]
          },
          "metadata": {
            "tags": [],
            "needs_background": "light"
          }
        }
      ]
    },
    {
      "cell_type": "code",
      "metadata": {
        "colab": {
          "base_uri": "https://localhost:8080/"
        },
        "id": "8cQb4CS9wLQy",
        "outputId": "2e53fc2b-a1e0-4991-d2d5-512a7b6e4f93"
      },
      "source": [
        "# creating the validation object\n",
        "%time val_dataset = get_dataset(X_val, y_val, train=False)"
      ],
      "execution_count": 28,
      "outputs": [
        {
          "output_type": "stream",
          "text": [
            "CPU times: user 39.4 ms, sys: 1.22 ms, total: 40.6 ms\n",
            "Wall time: 46.9 ms\n"
          ],
          "name": "stdout"
        }
      ]
    },
    {
      "cell_type": "code",
      "metadata": {
        "colab": {
          "base_uri": "https://localhost:8080/"
        },
        "id": "GBmTkHG9wLOH",
        "outputId": "bd018759-fa0e-44f0-f433-3a4cfa5566a6"
      },
      "source": [
        "image, label = next(iter(val_dataset))\n",
        "print(image.shape) # batch size, h, w, c\n",
        "print(label.shape)"
      ],
      "execution_count": 29,
      "outputs": [
        {
          "output_type": "stream",
          "text": [
            "(32, 224, 224, 3)\n",
            "(32, 131)\n"
          ],
          "name": "stdout"
        }
      ]
    },
    {
      "cell_type": "markdown",
      "metadata": {
        "id": "OvmCKh6WxG4Z"
      },
      "source": [
        "## Model Training  \n",
        "RESNET50, INCEPTION V3, EFFICIENTNETB3"
      ]
    },
    {
      "cell_type": "code",
      "metadata": {
        "colab": {
          "base_uri": "https://localhost:8080/"
        },
        "id": "WM_GgNEYwLHV",
        "outputId": "9e0073be-ee36-4c82-ad71-02dce54d79c6"
      },
      "source": [
        "# building ResNet50 model\n",
        "from tensorflow.keras.applications import ResNet50V2\n",
        "\n",
        "backbone = ResNet50V2(\n",
        "    input_shape=(224,224,3),\n",
        "    include_top=False  # not including a final layers of ResNet\n",
        ")\n",
        "\n",
        "model = tf.keras.Sequential([\n",
        "                             backbone,\n",
        "                             tf.keras.layers.GlobalAveragePooling2D(),\n",
        "                             tf.keras.layers.Dense(131, activation='softmax')\n",
        "])\n",
        "\n",
        "model.summary()"
      ],
      "execution_count": 30,
      "outputs": [
        {
          "output_type": "stream",
          "text": [
            "Downloading data from https://storage.googleapis.com/tensorflow/keras-applications/resnet/resnet50v2_weights_tf_dim_ordering_tf_kernels_notop.h5\n",
            "94674944/94668760 [==============================] - 1s 0us/step\n",
            "Model: \"sequential_2\"\n",
            "_________________________________________________________________\n",
            "Layer (type)                 Output Shape              Param #   \n",
            "=================================================================\n",
            "resnet50v2 (Functional)      (None, 7, 7, 2048)        23564800  \n",
            "_________________________________________________________________\n",
            "global_average_pooling2d (Gl (None, 2048)              0         \n",
            "_________________________________________________________________\n",
            "dense (Dense)                (None, 131)               268419    \n",
            "=================================================================\n",
            "Total params: 23,833,219\n",
            "Trainable params: 23,787,779\n",
            "Non-trainable params: 45,440\n",
            "_________________________________________________________________\n"
          ],
          "name": "stdout"
        }
      ]
    },
    {
      "cell_type": "code",
      "metadata": {
        "id": "ugXp1k-pyyCK"
      },
      "source": [
        "# compiling the model by providing the Optimizer, Loss and Metrics\n",
        "model.compile(\n",
        "    optimizer=tf.keras.optimizers.Adam(learning_rate=0.001, beta_1=0.9, beta_2=0.999, epsilon=1e-07),\n",
        "    loss='categorical_crossentropy',\n",
        "    metrics=['accuracy', tf.keras.metrics.Precision(name='precision'), tf.keras.metrics.Recall(name='recall')]\n",
        ")"
      ],
      "execution_count": 31,
      "outputs": []
    },
    {
      "cell_type": "code",
      "metadata": {
        "colab": {
          "base_uri": "https://localhost:8080/"
        },
        "id": "aOVsDMcGyx_n",
        "outputId": "371b3aa2-75db-4394-98de-5cb9c76c04c0"
      },
      "source": [
        "# training the model on training dataset and validating on validation dataset\n",
        "# PHASE-I: train the whole network for one epoch and tune the weights for all layers of our model\n",
        "history = model.fit(\n",
        "    train_dataset,\n",
        "    steps_per_epoch=len(X_train)//BATCH_SIZE,\n",
        "    epochs=1,\n",
        "    validation_data = val_dataset,\n",
        "    validation_steps=len(y_train)//BATCH_SIZE,\n",
        "    #calbacks=[checkpoint, early_stop]\n",
        ")\n"
      ],
      "execution_count": 32,
      "outputs": [
        {
          "output_type": "stream",
          "text": [
            "1586/1586 [==============================] - 841s 505ms/step - loss: 0.4840 - accuracy: 0.8623 - precision: 0.9286 - recall: 0.8251 - val_loss: 7.9039 - val_accuracy: 0.2092 - val_precision: 0.2228 - val_recall: 0.1946\n"
          ],
          "name": "stdout"
        }
      ]
    },
    {
      "cell_type": "code",
      "metadata": {
        "id": "vARFlISWyx9A"
      },
      "source": [
        "# In the next phase, we expect our model to just learn patterns in current data.\n",
        "# training on more than four epochs might results in overfitting\n",
        "# then we freeze all the layers and train only on last layer where we do classification, \n",
        "# this gives more importance to the classification layer, thus making it more accurate"
      ],
      "execution_count": 33,
      "outputs": []
    },
    {
      "cell_type": "code",
      "metadata": {
        "id": "Ll72F5N2wLEs"
      },
      "source": [
        "# turnoff the backbone after tuning weights - to ensure the lesser chance of overfitting\n",
        "model.layers[0].trainable = False"
      ],
      "execution_count": 34,
      "outputs": []
    },
    {
      "cell_type": "code",
      "metadata": {
        "id": "KF5njqwAwF2Y"
      },
      "source": [
        "# callbacks\n",
        "checkpoint = tf.keras.callbacks.ModelCheckpoint(\"best_weigths.h5\", \n",
        "                                                verbose=1, \n",
        "                                                save_best=True, \n",
        "                                                save_weights_only=True)\n",
        "\n",
        "# stop training when starts overfitting, ie, four consecutive epochs with no improvement\n",
        "early_stop = tf.keras.callbacks.EarlyStopping(patience=4) "
      ],
      "execution_count": 35,
      "outputs": []
    },
    {
      "cell_type": "code",
      "metadata": {
        "colab": {
          "base_uri": "https://localhost:8080/"
        },
        "id": "cXQoAuOI4Iz_",
        "outputId": "79326f9c-4f01-40d3-8b9b-7a41a9f985a2"
      },
      "source": [
        "model.summary()"
      ],
      "execution_count": 36,
      "outputs": [
        {
          "output_type": "stream",
          "text": [
            "Model: \"sequential_2\"\n",
            "_________________________________________________________________\n",
            "Layer (type)                 Output Shape              Param #   \n",
            "=================================================================\n",
            "resnet50v2 (Functional)      (None, 7, 7, 2048)        23564800  \n",
            "_________________________________________________________________\n",
            "global_average_pooling2d (Gl (None, 2048)              0         \n",
            "_________________________________________________________________\n",
            "dense (Dense)                (None, 131)               268419    \n",
            "=================================================================\n",
            "Total params: 23,833,219\n",
            "Trainable params: 268,419\n",
            "Non-trainable params: 23,564,800\n",
            "_________________________________________________________________\n"
          ],
          "name": "stdout"
        }
      ]
    },
    {
      "cell_type": "code",
      "metadata": {
        "colab": {
          "base_uri": "https://localhost:8080/"
        },
        "id": "XbEzuklh53pV",
        "outputId": "7ea6be2e-9e60-4fe7-a98b-d0284ca711f2"
      },
      "source": [
        "# training second phase\n",
        "history = model.fit(\n",
        "    train_dataset,\n",
        "    steps_per_epoch=len(X_train)//BATCH_SIZE,\n",
        "    epochs=8,\n",
        "    validation_data = val_dataset,\n",
        "    validation_steps=len(y_train)//BATCH_SIZE,\n",
        "    callbacks=[checkpoint, early_stop]\n",
        ")"
      ],
      "execution_count": 38,
      "outputs": [
        {
          "output_type": "stream",
          "text": [
            "Epoch 1/8\n",
            "1586/1586 [==============================] - 800s 503ms/step - loss: 0.0854 - accuracy: 0.9737 - precision: 0.9767 - recall: 0.9708 - val_loss: 11.1436 - val_accuracy: 0.2106 - val_precision: 0.2167 - val_recall: 0.2045\n",
            "\n",
            "Epoch 00001: saving model to best_weigths.h5\n",
            "Epoch 2/8\n",
            "1586/1586 [==============================] - 799s 503ms/step - loss: 0.0594 - accuracy: 0.9814 - precision: 0.9834 - recall: 0.9796 - val_loss: 12.5766 - val_accuracy: 0.1723 - val_precision: 0.1839 - val_recall: 0.1640\n",
            "\n",
            "Epoch 00002: saving model to best_weigths.h5\n",
            "Epoch 3/8\n",
            "1586/1586 [==============================] - 798s 503ms/step - loss: 0.0529 - accuracy: 0.9835 - precision: 0.9849 - recall: 0.9824 - val_loss: 18.0459 - val_accuracy: 0.1477 - val_precision: 0.1528 - val_recall: 0.1423\n",
            "\n",
            "Epoch 00003: saving model to best_weigths.h5\n",
            "Epoch 4/8\n",
            "1586/1586 [==============================] - 797s 503ms/step - loss: 0.0382 - accuracy: 0.9885 - precision: 0.9892 - recall: 0.9879 - val_loss: 11.0133 - val_accuracy: 0.1906 - val_precision: 0.1916 - val_recall: 0.1839\n",
            "\n",
            "Epoch 00004: saving model to best_weigths.h5\n",
            "Epoch 5/8\n",
            "1586/1586 [==============================] - 796s 502ms/step - loss: 0.0294 - accuracy: 0.9909 - precision: 0.9916 - recall: 0.9905 - val_loss: 4.1783 - val_accuracy: 0.4339 - val_precision: 0.4561 - val_recall: 0.4215\n",
            "\n",
            "Epoch 00005: saving model to best_weigths.h5\n",
            "Epoch 6/8\n",
            "1586/1586 [==============================] - 793s 500ms/step - loss: 0.0270 - accuracy: 0.9917 - precision: 0.9922 - recall: 0.9913 - val_loss: 2.1225 - val_accuracy: 0.6633 - val_precision: 0.6845 - val_recall: 0.6489\n",
            "\n",
            "Epoch 00006: saving model to best_weigths.h5\n",
            "Epoch 7/8\n",
            "1586/1586 [==============================] - 789s 498ms/step - loss: 0.0244 - accuracy: 0.9925 - precision: 0.9929 - recall: 0.9922 - val_loss: 1.8535 - val_accuracy: 0.7114 - val_precision: 0.7297 - val_recall: 0.6979\n",
            "\n",
            "Epoch 00007: saving model to best_weigths.h5\n",
            "Epoch 8/8\n",
            "1586/1586 [==============================] - 789s 498ms/step - loss: 0.0190 - accuracy: 0.9940 - precision: 0.9942 - recall: 0.9936 - val_loss: 1.3489 - val_accuracy: 0.7668 - val_precision: 0.7832 - val_recall: 0.7559\n",
            "\n",
            "Epoch 00008: saving model to best_weigths.h5\n"
          ],
          "name": "stdout"
        }
      ]
    },
    {
      "cell_type": "markdown",
      "metadata": {
        "id": "UUC_Sq9yWcyk"
      },
      "source": [
        "## Evaluating the model"
      ]
    },
    {
      "cell_type": "code",
      "metadata": {
        "id": "2f20lP6UfE_5"
      },
      "source": [
        "# for loading the weights we need to unfreeze the layers\n",
        "model.layers[0].trainable = True"
      ],
      "execution_count": 56,
      "outputs": []
    },
    {
      "cell_type": "code",
      "metadata": {
        "id": "-N9Kn9Z853kn"
      },
      "source": [
        "# load the weights from the checkpoint and re-evaluate\n",
        "model.load_weights(\"/content/best_weigths.h5\")"
      ],
      "execution_count": 57,
      "outputs": []
    },
    {
      "cell_type": "code",
      "metadata": {
        "id": "_slEbPL9Wfsb"
      },
      "source": [
        "test_image_paths = list(test_path.glob(\"*/*\"))\n",
        "test_image_paths = list(map(lambda x: str(x), test_image_paths))\n",
        "test_image_labels = list(map(lambda x: get_label(x), test_image_paths))\n",
        "\n",
        "test_image_labels = Le.fit_transform(test_image_labels) # label encoder\n",
        "test_image_labels = tf.keras.utils.to_categorical(test_image_labels)\n",
        "\n",
        "test_image_paths = tf.convert_to_tensor(test_image_paths)\n",
        "test_image_labels = tf.convert_to_tensor(test_image_labels)\n",
        "\n",
        "def decode_image(image, label):\n",
        "  image = tf.io.read_file(image)\n",
        "  image = tf.io.decode_jpeg(image, channels=3)\n",
        "  image = tf.image.resize(image, [224,224], method=\"bilinear\")\n",
        "  return image, label"
      ],
      "execution_count": 58,
      "outputs": []
    },
    {
      "cell_type": "code",
      "metadata": {
        "id": "hk7-aRijXdRk"
      },
      "source": [
        "test_dataset = (\n",
        "    tf.data.Dataset\n",
        "    .from_tensor_slices((test_image_paths, test_image_labels))\n",
        "    .map(decode_image)\n",
        "    .batch(BATCH_SIZE)\n",
        ")"
      ],
      "execution_count": 59,
      "outputs": []
    },
    {
      "cell_type": "code",
      "metadata": {
        "colab": {
          "base_uri": "https://localhost:8080/"
        },
        "id": "McQBhuKXXdLk",
        "outputId": "484c28b5-db26-4b28-f65a-3a4db52d9a29"
      },
      "source": [
        "image_label = next(iter(test_dataset))\n",
        "print(image.shape)\n",
        "print(label.shape)"
      ],
      "execution_count": 60,
      "outputs": [
        {
          "output_type": "stream",
          "text": [
            "(32, 224, 224, 3)\n",
            "(32, 131)\n"
          ],
          "name": "stdout"
        }
      ]
    },
    {
      "cell_type": "code",
      "metadata": {
        "colab": {
          "base_uri": "https://localhost:8080/",
          "height": 302
        },
        "id": "QDPK1UFSXdGt",
        "outputId": "b24d19ce-12da-464e-ade7-7783d19c5c58"
      },
      "source": [
        "print(Le.inverse_transform(np.argmax(label, axis=1))[0])\n",
        "plt.imshow((image[0].numpy()/255).reshape(224,224,3))"
      ],
      "execution_count": 61,
      "outputs": [
        {
          "output_type": "stream",
          "text": [
            "Strawberry Wedge\n"
          ],
          "name": "stdout"
        },
        {
          "output_type": "execute_result",
          "data": {
            "text/plain": [
              "<matplotlib.image.AxesImage at 0x7fc6de51ef50>"
            ]
          },
          "metadata": {
            "tags": []
          },
          "execution_count": 61
        },
        {
          "output_type": "display_data",
          "data": {
            "image/png": "[encoded data removed]",
            "text/plain": [
              "<Figure size 432x288 with 1 Axes>"
            ]
          },
          "metadata": {
            "tags": [],
            "needs_background": "light"
          }
        }
      ]
    },
    {
      "cell_type": "code",
      "metadata": {
        "colab": {
          "base_uri": "https://localhost:8080/"
        },
        "id": "-OrJ7IveX_RG",
        "outputId": "20b8490b-c128-4313-810d-e0b1bbaf1be7"
      },
      "source": [
        "loss, acc, prec, rec = model.evaluate(test_dataset)"
      ],
      "execution_count": 62,
      "outputs": [
        {
          "output_type": "stream",
          "text": [
            "709/709 [==============================] - 61s 86ms/step - loss: 1.8328 - accuracy: 0.7008 - precision: 0.7174 - recall: 0.6900\n"
          ],
          "name": "stdout"
        }
      ]
    },
    {
      "cell_type": "code",
      "metadata": {
        "colab": {
          "base_uri": "https://localhost:8080/"
        },
        "id": "PNOR2_PmYOp9",
        "outputId": "1bbcec33-5c66-410e-f0b1-4a1c0a29fb3f"
      },
      "source": [
        "print(\"Test Acc: \", acc)\n",
        "print(\"Test Precision: \", prec)\n",
        "print(\"Test Recall: \", rec)"
      ],
      "execution_count": 63,
      "outputs": [
        {
          "output_type": "stream",
          "text": [
            "Test Acc:  0.700766921043396\n",
            "Test Precision:  0.7173953056335449\n",
            "Test Recall:  0.6900123357772827\n"
          ],
          "name": "stdout"
        }
      ]
    },
    {
      "cell_type": "code",
      "metadata": {
        "colab": {
          "base_uri": "https://localhost:8080/"
        },
        "id": "UmJmSyd5Y9Fn",
        "outputId": "4320cede-6ad0-4e6f-8c75-8f3c3f3bde16"
      },
      "source": [
        "loss"
      ],
      "execution_count": 64,
      "outputs": [
        {
          "output_type": "execute_result",
          "data": {
            "text/plain": [
              "1.8327922821044922"
            ]
          },
          "metadata": {
            "tags": []
          },
          "execution_count": 64
        }
      ]
    },
    {
      "cell_type": "markdown",
      "metadata": {
        "id": "mYUnIGkzZQHE"
      },
      "source": [
        "## Real Time Prediction using CNN Models"
      ]
    },
    {
      "cell_type": "code",
      "metadata": {
        "id": "J7zkmmtWZDrs"
      },
      "source": [
        "def LoadImage(image_path):\n",
        "  image = tf.io.read_file(image_path)\n",
        "  image = tf.io.decode_jpeg(image, channels=3)\n",
        "  image = tf.image.resize(image, [224,224], method=\"bilinear\")\n",
        "  plt.imshow(image.numpy()/255)\n",
        "  image = tf.expand_dims(image, 0) # change image dims to (1,224,224,3)\n",
        "  return image\n",
        "\n",
        "def RealtimePrediction(image_path, model, encoder_):\n",
        "  # model is trained model and encoder is label encode object that we fitted on training\n",
        "  image = LoadImage(image_path)\n",
        "  prediction = model.predict(image)\n",
        "  prediction = np.argmax(prediction, axis=1) # get index having maximum value\n",
        "  # decode index with label encode inverse transform function ie., numeric value to respective label\n",
        "  return encode_.inverse_transform(prediction)[0] "
      ],
      "execution_count": null,
      "outputs": []
    },
    {
      "cell_type": "code",
      "metadata": {
        "id": "Dkfu6Ld3cE4N"
      },
      "source": [
        "# apply on real-time image \n",
        "# RealTimePrediction(\"random_image/path/banana.jpg\", model, Le)"
      ],
      "execution_count": null,
      "outputs": []
    }
  ]
}